{
 "cells": [
  {
   "cell_type": "markdown",
   "metadata": {},
   "source": [
    "# Haar Cascade face detection\n",
    "Libraries needed\n",
    "- opencv\n",
    "\n",
    "First we import opencv and the haar cascade classifier\n"
   ]
  },
  {
   "cell_type": "code",
   "execution_count": 1,
   "metadata": {},
   "outputs": [],
   "source": [
    "#Importing OpenCV \n",
    "import cv2 \n",
    "#Importing HARR CASCADE XML file\n",
    "face_cascade = cv2.CascadeClassifier('haarcascade_frontalface_default.xml')"
   ]
  },
  {
   "cell_type": "markdown",
   "metadata": {},
   "source": [
    "Here we capture the video from the webcam. The usign 0 as the parameter for VideoCapture allows that. Else we can replace that with a video link."
   ]
  },
  {
   "cell_type": "code",
   "execution_count": 2,
   "metadata": {},
   "outputs": [],
   "source": [
    "#Capture Video from web cam hence (0) or else add your own media file\n",
    "cam = cv2.VideoCapture(0)\n",
    "img_counter=0"
   ]
  },
  {
   "cell_type": "code",
   "execution_count": 3,
   "metadata": {},
   "outputs": [
    {
     "name": "stdout",
     "output_type": "stream",
     "text": [
      "opencv_frame_0.png written!\n"
     ]
    }
   ],
   "source": [
    "while True:\n",
    "    #\n",
    "    _,img = cam.read()\n",
    "\n",
    "    #his conversts the image to grayscale\n",
    "    grayscale = cv2.cvtColor(img, cv2.COLOR_BGR2GRAY)\n",
    "\n",
    "    #since there could be muliple faces to detect, we specify it to do so\n",
    "    multipleFaces = face_cascade.detectMultiScale(grayscale, 1.1, 6)\n",
    "\n",
    "    #Here we draw a rectangle around each face which has been detected, and  \n",
    "    for(x, y, w, h) in multipleFaces:\n",
    "        cv2.rectangle(img, (x, y), (x+w, y+h), (0, 0, 250), 2)\n",
    "\n",
    "    #Here the detected face is displayed \n",
    "    cv2.imshow('Face detected',  img)\n",
    "    \n",
    "\n",
    "    #code runs unitil the escape key is clicked\n",
    "    k = cv2.waitKey(30) & 0xff\n",
    "    if k == 27:\n",
    "        break\n",
    "    # if space bar is clicked, Image will be saved as a picture\n",
    "    elif k%256 == 32:\n",
    "        # SPACE pressed\n",
    "        img_name = \"opencv_frame_{}.png\".format(img_counter)\n",
    "        cv2.imwrite(img_name, img)\n",
    "        print(\"{} written!\".format(img_name))\n",
    "        img_counter += 1"
   ]
  },
  {
   "cell_type": "code",
   "execution_count": 4,
   "metadata": {},
   "outputs": [],
   "source": [
    "#Here we release captured frames\n",
    "cam.release()"
   ]
  }
 ],
 "metadata": {
  "kernelspec": {
   "display_name": "Python 3",
   "language": "python",
   "name": "python3"
  },
  "language_info": {
   "codemirror_mode": {
    "name": "ipython",
    "version": 3
   },
   "file_extension": ".py",
   "mimetype": "text/x-python",
   "name": "python",
   "nbconvert_exporter": "python",
   "pygments_lexer": "ipython3",
   "version": "3.7.6"
  }
 },
 "nbformat": 4,
 "nbformat_minor": 4
}
